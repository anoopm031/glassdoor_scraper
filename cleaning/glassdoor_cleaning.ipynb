{
 "cells": [
  {
   "cell_type": "code",
   "execution_count": 9,
   "metadata": {},
   "outputs": [],
   "source": [
    "import pandas as pd\n",
    "import numpy as np\n",
    "import csv"
   ]
  },
  {
   "cell_type": "code",
   "execution_count": 10,
   "metadata": {},
   "outputs": [
    {
     "data": {
      "text/plain": [
       "array(['Switzerland', 'USA', 'Israel', 'Australia', 'UK', 'Canada',\n",
       "       'Germany', 'Netherlands', 'UAE', 'Sweden', 'Belgium', 'Singapore',\n",
       "       'Ireland', 'France', 'Japan', 'Spain', 'South Africa', 'Italy',\n",
       "       'South Korea', 'Republic of Korea', 'China', 'Saudi Arabia',\n",
       "       'Poland', 'Portugal', 'Mexico', 'Thailand', 'Romania', 'Taiwan',\n",
       "       'Chile', 'Greece', 'Brazil', 'Malaysia', 'Russia', 'India',\n",
       "       'Ukraine', 'Argentina', 'Tunisia', 'Turkey', 'Philippines', 'Peru',\n",
       "       'Colombia', 'Belarus', 'Indonesia', 'Morocco', 'Pakistan', 'Egypt',\n",
       "       'Sri Lanka', 'Nigeria', 'Kenya', 'Iran', 'Bangladesh', 'Vietnam'],\n",
       "      dtype=object)"
      ]
     },
     "execution_count": 10,
     "metadata": {},
     "output_type": "execute_result"
    }
   ],
   "source": [
    "glass_data = pd.read_csv(r'E:\\Coding\\Data science practice\\kaggle_a\\glassdoor_scraper\\pay.csv', \n",
    "                         header=None)\n",
    "glass_data.columns = ['Job', 'country', 'Currency', 'Avg_pay', 'Frequency', 'Confidence']\n",
    "glass_data = glass_data[glass_data['country'] != 'Viet Nam']   # this columns was a mistake during defining country \n",
    "                                                               #names. Original Vietnam is still in the axis.\n",
    "glass_data['country'].unique()"
   ]
  },
  {
   "cell_type": "code",
   "execution_count": 11,
   "metadata": {},
   "outputs": [
    {
     "data": {
      "text/plain": [
       "array(['UAE', 'Albania', 'Argentina', 'Austria', 'Australia',\n",
       "       'Bosnia and Herzegovina', 'Belgium', 'Bulgaria', 'Bahrain',\n",
       "       'Brunei', 'Brazil', 'Canada', 'Switzerland', 'Chile', 'China',\n",
       "       'Colombia', 'Cyprus', 'Czech Republic', 'Germany', 'Denmark',\n",
       "       'Algeria', 'Estonia', 'Spain', 'Finland', 'France', 'UK', 'Greece',\n",
       "       'Hong Kong SAR', 'Croatia', 'Hungary', 'Indonesia', 'Ireland',\n",
       "       'Israel', 'India', 'Iran', 'Iceland', 'Italy', 'Japan',\n",
       "       'South Korea', 'Kuwait', 'Kazakhstan', 'Sri Lanka', 'Lithuania',\n",
       "       'Luxembourg', 'Latvia', 'North Macedonia', 'Malta', 'Mauritius',\n",
       "       'Mexico', 'Malaysia', 'Netherlands', 'Norway', 'Nepal',\n",
       "       'New Zealand', 'Oman', 'Peru', 'Philippines', 'Pakistan', 'Poland',\n",
       "       'Portugal', 'Qatar', 'Romania', 'Serbia', 'Russia', 'Saudi Arabia',\n",
       "       'Sweden', 'Singapore', 'Slovenia', 'Slovakia', 'Thailand',\n",
       "       'Tunisia', 'Turkey', 'Trinidad and Tobago', 'Chinese Taipei',\n",
       "       'Ukraine', 'USA', 'Uruguay', 'Venezuela', 'Euro area', 'World',\n",
       "       'South Africa'], dtype=object)"
      ]
     },
     "execution_count": 11,
     "metadata": {},
     "output_type": "execute_result"
    }
   ],
   "source": [
    "conversion_rates = pd.read_csv(r'E:\\Coding\\Data science practice\\kaggle_a\\glassdoor_scraper\\cleaning\\conversion_rate_16dec2020.csv', \n",
    "                         header=0)\n",
    "# source: https://www.bis.org/statistics/full_webstats_xru_current_d_dataflow_csv_col.zip\n",
    "\n",
    "conv_df = conversion_rates[['Reference area', 'CURRENCY', 'Currency', '2020-12-14']].copy()\n",
    "conv_df.columns = ['Reference area', 'CURRENCY', 'Currency', 'conversion(1 USD=)']\n",
    "conv_df['Reference area'].replace({'United Arab Emirates': 'UAE', 'United Kingdom': 'UK', 'United States': 'USA'}, \n",
    "                                  inplace=True)\n",
    "conv_df['Reference area'].unique()"
   ]
  },
  {
   "cell_type": "code",
   "execution_count": 12,
   "metadata": {},
   "outputs": [
    {
     "data": {
      "text/html": [
       "<div>\n",
       "<style scoped>\n",
       "    .dataframe tbody tr th:only-of-type {\n",
       "        vertical-align: middle;\n",
       "    }\n",
       "\n",
       "    .dataframe tbody tr th {\n",
       "        vertical-align: top;\n",
       "    }\n",
       "\n",
       "    .dataframe thead th {\n",
       "        text-align: right;\n",
       "    }\n",
       "</style>\n",
       "<table border=\"1\" class=\"dataframe\">\n",
       "  <thead>\n",
       "    <tr style=\"text-align: right;\">\n",
       "      <th></th>\n",
       "      <th>Reference area</th>\n",
       "      <th>CURRENCY</th>\n",
       "      <th>Currency</th>\n",
       "      <th>conversion(1 USD=)</th>\n",
       "    </tr>\n",
       "  </thead>\n",
       "  <tbody>\n",
       "    <tr>\n",
       "      <th>4</th>\n",
       "      <td>Egypt</td>\n",
       "      <td>None</td>\n",
       "      <td>None</td>\n",
       "      <td>15.68</td>\n",
       "    </tr>\n",
       "    <tr>\n",
       "      <th>5</th>\n",
       "      <td>Nigeria</td>\n",
       "      <td>None</td>\n",
       "      <td>None</td>\n",
       "      <td>380.00</td>\n",
       "    </tr>\n",
       "    <tr>\n",
       "      <th>6</th>\n",
       "      <td>Kenya</td>\n",
       "      <td>None</td>\n",
       "      <td>None</td>\n",
       "      <td>111.09</td>\n",
       "    </tr>\n",
       "    <tr>\n",
       "      <th>7</th>\n",
       "      <td>Bangladesh</td>\n",
       "      <td>None</td>\n",
       "      <td>None</td>\n",
       "      <td>84.31</td>\n",
       "    </tr>\n",
       "    <tr>\n",
       "      <th>8</th>\n",
       "      <td>Vietnam</td>\n",
       "      <td>None</td>\n",
       "      <td>None</td>\n",
       "      <td>23134.50</td>\n",
       "    </tr>\n",
       "  </tbody>\n",
       "</table>\n",
       "</div>"
      ],
      "text/plain": [
       "  Reference area CURRENCY Currency  conversion(1 USD=)\n",
       "4          Egypt     None     None               15.68\n",
       "5        Nigeria     None     None              380.00\n",
       "6          Kenya     None     None              111.09\n",
       "7     Bangladesh     None     None               84.31\n",
       "8        Vietnam     None     None            23134.50"
      ]
     },
     "execution_count": 12,
     "metadata": {},
     "output_type": "execute_result"
    }
   ],
   "source": [
    "tofilldata = [['Republic of Korea',None, None, 1108.76], ['Taiwan',None,None,28.18], ['Belarus',None, None,  2.50],\n",
    "              ['Morocco',None,None,8.96], ['Egypt',None,None,15.68], ['Nigeria',None,None,380.00], \n",
    "              ['Kenya',None, None, 111.09], ['Bangladesh',None,None,84.31], ['Vietnam',None,None,23134.50]]\n",
    "filler =pd.DataFrame(tofilldata, columns = ['Reference area', 'CURRENCY', 'Currency', 'conversion(1 USD=)'])\n",
    "conv_df = pd.concat([conv_df, filler])\n",
    "conv_df.tail()"
   ]
  },
  {
   "cell_type": "code",
   "execution_count": 13,
   "metadata": {},
   "outputs": [],
   "source": [
    "glass_df = glass_data.merge(conv_df, how='left', left_on='country', right_on='Reference area')"
   ]
  },
  {
   "cell_type": "code",
   "execution_count": 14,
   "metadata": {},
   "outputs": [
    {
     "data": {
      "text/plain": [
       "array([], dtype=object)"
      ]
     },
     "execution_count": 14,
     "metadata": {},
     "output_type": "execute_result"
    }
   ],
   "source": [
    "null_data = glass_df[glass_df['Reference area'].isnull()]\n",
    "null_countries = null_data['country'].unique() # we need to manually update the rates if possible.\n",
    "null_countries "
   ]
  },
  {
   "cell_type": "code",
   "execution_count": 15,
   "metadata": {},
   "outputs": [],
   "source": [
    "glass_df['Avg_pay(USD)'] = glass_df['Avg_pay']/glass_df['conversion(1 USD=)']\n",
    "glass_df[glass_df['country']=='India']\n",
    "finalpay_df = glass_df[['Job','country', 'Currency_x', 'Currency_y', 'CURRENCY','Avg_pay','conversion(1 USD=)',\n",
    "                         'Avg_pay(USD)', 'Frequency', 'Confidence']]"
   ]
  },
  {
   "cell_type": "code",
   "execution_count": 16,
   "metadata": {},
   "outputs": [],
   "source": [
    "finalpay_df.to_csv('finalpay.csv', index=False)"
   ]
  },
  {
   "cell_type": "code",
   "execution_count": null,
   "metadata": {},
   "outputs": [],
   "source": []
  },
  {
   "cell_type": "code",
   "execution_count": null,
   "metadata": {},
   "outputs": [],
   "source": []
  }
 ],
 "metadata": {
  "kernelspec": {
   "display_name": "Python 3",
   "language": "python",
   "name": "python3"
  },
  "language_info": {
   "codemirror_mode": {
    "name": "ipython",
    "version": 3
   },
   "file_extension": ".py",
   "mimetype": "text/x-python",
   "name": "python",
   "nbconvert_exporter": "python",
   "pygments_lexer": "ipython3",
   "version": "3.7.7"
  }
 },
 "nbformat": 4,
 "nbformat_minor": 4
}
